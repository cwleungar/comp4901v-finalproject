{
  "cells": [
    {
      "cell_type": "code",
      "execution_count": 15,
      "metadata": {
        "colab": {
          "base_uri": "https://localhost:8080/"
        },
        "id": "Pcd7iv9Blk4k",
        "outputId": "fec5eac6-6e9a-4d03-dc23-7938228de472"
      },
      "outputs": [
        {
          "name": "stdout",
          "output_type": "stream",
          "text": [
            "Collecting pycocotools\n",
            "  Downloading pycocotools-2.0.6.tar.gz (24 kB)\n",
            "  Installing build dependencies: started\n",
            "  Installing build dependencies: finished with status 'done'\n",
            "  Getting requirements to build wheel: started\n",
            "  Getting requirements to build wheel: finished with status 'done'\n",
            "  Preparing metadata (pyproject.toml): started\n",
            "  Preparing metadata (pyproject.toml): finished with status 'done'\n",
            "Requirement already satisfied: matplotlib>=2.1.0 in c:\\users\\samle\\anaconda3\\envs\\comp4222\\lib\\site-packages (from pycocotools) (3.5.2)\n",
            "Requirement already satisfied: numpy in c:\\users\\samle\\anaconda3\\envs\\comp4222\\lib\\site-packages (from pycocotools) (1.21.5)\n",
            "Requirement already satisfied: fonttools>=4.22.0 in c:\\users\\samle\\anaconda3\\envs\\comp4222\\lib\\site-packages (from matplotlib>=2.1.0->pycocotools) (4.25.0)\n",
            "Requirement already satisfied: pillow>=6.2.0 in c:\\users\\samle\\anaconda3\\envs\\comp4222\\lib\\site-packages (from matplotlib>=2.1.0->pycocotools) (9.2.0)\n",
            "Requirement already satisfied: python-dateutil>=2.7 in c:\\users\\samle\\anaconda3\\envs\\comp4222\\lib\\site-packages (from matplotlib>=2.1.0->pycocotools) (2.8.2)\n",
            "Requirement already satisfied: pyparsing>=2.2.1 in c:\\users\\samle\\anaconda3\\envs\\comp4222\\lib\\site-packages (from matplotlib>=2.1.0->pycocotools) (3.0.9)\n",
            "Requirement already satisfied: cycler>=0.10 in c:\\users\\samle\\anaconda3\\envs\\comp4222\\lib\\site-packages (from matplotlib>=2.1.0->pycocotools) (0.11.0)\n",
            "Requirement already satisfied: kiwisolver>=1.0.1 in c:\\users\\samle\\anaconda3\\envs\\comp4222\\lib\\site-packages (from matplotlib>=2.1.0->pycocotools) (1.4.2)\n",
            "Requirement already satisfied: packaging>=20.0 in c:\\users\\samle\\anaconda3\\envs\\comp4222\\lib\\site-packages (from matplotlib>=2.1.0->pycocotools) (21.3)\n",
            "Requirement already satisfied: six>=1.5 in c:\\users\\samle\\anaconda3\\envs\\comp4222\\lib\\site-packages (from python-dateutil>=2.7->matplotlib>=2.1.0->pycocotools) (1.16.0)\n",
            "Building wheels for collected packages: pycocotools\n",
            "  Building wheel for pycocotools (pyproject.toml): started\n",
            "  Building wheel for pycocotools (pyproject.toml): finished with status 'done'\n",
            "  Created wheel for pycocotools: filename=pycocotools-2.0.6-cp39-cp39-win_amd64.whl size=76342 sha256=73206e943f704ca37bf2b66303aa72c4be81f46579988690a629ed1869aa4f23\n",
            "  Stored in directory: c:\\users\\samle\\appdata\\local\\pip\\cache\\wheels\\2f\\58\\25\\e78f1f766e904a9071266661d20d0bc6644df86bcd160aba11\n",
            "Successfully built pycocotools\n",
            "Installing collected packages: pycocotools\n",
            "Successfully installed pycocotools-2.0.6\n"
          ]
        }
      ],
      "source": [
        "%pip install pycocotools"
      ]
    },
    {
      "cell_type": "code",
      "execution_count": 18,
      "metadata": {
        "colab": {
          "base_uri": "https://localhost:8080/"
        },
        "id": "-HBhhDz_9B9N",
        "outputId": "a55748ba-f4ec-4d3a-ace3-88fb7d115cd1"
      },
      "outputs": [
        {
          "name": "stdout",
          "output_type": "stream",
          "text": [
            "D:\\Users\\samle\\Documents\\GitHub\\comp4901v-finalproject\n",
            "Already up to date.\n",
            "done preprocess\n",
            "log file path:log\\log_2023-04-19_18-45-32.txt\n",
            "2023-04-19 18:45:32,819 train.py[line:619] INFO: Using device cuda\n",
            "2023-04-19 18:45:34,000 train.py[line:318] INFO: Starting training:\n",
            "        Epochs:          300\n",
            "        Batch size:      64\n",
            "        Subdivisions:    16\n",
            "        Learning rate:   0.001\n",
            "        Training size:   7107\n",
            "        Validation size: 748\n",
            "        Checkpoints:     True\n",
            "        Device:          cuda\n",
            "        Images size:     416\n",
            "        Optimizer:       adam\n",
            "        Dataset classes: 8\n",
            "        Train label path:train.txt\n",
            "        Pretrained:\n",
            "    \n"
          ]
        },
        {
          "name": "stderr",
          "output_type": "stream",
          "text": [
            "\n",
            "Epoch 1/300:   0%|      | 0/7107 [00:00<?, ?img/s][ WARN:0@15.608] global loadsave.cpp:244 cv::findDecoder imread_('/content/data/training/image_2\\005828.png'): can't open/read file: check file path/integrity\n",
            "[ WARN:0@13.725] global loadsave.cpp:244 cv::findDecoder imread_('/content/data/training/image_2\\000984.png'): can't open/read file: check file path/integrity\n",
            "[ WARN:0@11.768] global loadsave.cpp:244 cv::findDecoder imread_('/content/data/training/image_2\\006624.png'): can't open/read file: check file path/integrity\n",
            "[ WARN:0@9.795] global loadsave.cpp:244 cv::findDecoder imread_('/content/data/training/image_2\\004069.png'): can't open/read file: check file path/integrity\n",
            "[ WARN:0@7.816] global loadsave.cpp:244 cv::findDecoder imread_('/content/data/training/image_2\\006634.png'): can't open/read file: check file path/integrity\n",
            "[ WARN:0@5.782] global loadsave.cpp:244 cv::findDecoder imread_('/content/data/training/image_2\\006598.png'): can't open/read file: check file path/integrity\n",
            "[ WARN:0@3.760] global loadsave.cpp:244 cv::findDecoder imread_('/content/data/training/image_2\\005598.png'): can't open/read file: check file path/integrity\n",
            "[ WARN:0@15.612] global loadsave.cpp:244 cv::findDecoder imread_('/content/data/training/image_2\\004132.png'): can't open/read file: check file path/integrity\n",
            "\n",
            "Epoch 1/300:   0%|      | 0/7107 [00:15<?, ?img/s][ WARN:0@13.729] global loadsave.cpp:244 cv::findDecoder imread_('/content/data/training/image_2\\000746.png'): can't open/read file: check file path/integrity\n",
            "\n",
            "[ WARN:0@11.772] global loadsave.cpp:244 cv::findDecoder imread_('/content/data/training/image_2\\000180.png'): can't open/read file: check file path/integrity\n",
            "[ WARN:0@9.799] global loadsave.cpp:244 cv::findDecoder imread_('/content/data/training/image_2\\000459.png'): can't open/read file: check file path/integrity\n",
            "[ WARN:0@15.613] global loadsave.cpp:244 cv::findDecoder imread_('/content/data/training/image_2\\000265.png'): can't open/read file: check file path/integrity\n",
            "Traceback (most recent call last):\n",
            "  File \"D:\\Users\\samle\\Documents\\GitHub\\comp4901v-finalproject\\code\\yolov4\\train.py\", line 631, in <module>\n",
            "[ WARN:0@7.820] global loadsave.cpp:244 cv::findDecoder imread_('/content/data/training/image_2\\006795.png'): can't open/read file: check file path/integrity\n",
            "[ WARN:0@5.785] global loadsave.cpp:244 cv::findDecoder imread_('/content/data/training/image_2\\003408.png'): can't open/read file: check file path/integrity\n",
            "[ WARN:0@3.763] global loadsave.cpp:244 cv::findDecoder imread_('/content/data/training/image_2\\000722.png'): can't open/read file: check file path/integrity\n",
            "    train(model=model,\n",
            "  File \"D:\\Users\\samle\\Documents\\GitHub\\comp4901v-finalproject\\code\\yolov4\\train.py\", line 375, in train\n",
            "    for i, batch in enumerate(train_loader):\n",
            "  File \"c:\\Users\\samle\\anaconda3\\envs\\COMP4222\\lib\\site-packages\\torch\\utils\\data\\dataloader.py\", line 681, in __next__\n",
            "    data = self._next_data()\n",
            "  File \"c:\\Users\\samle\\anaconda3\\envs\\COMP4222\\lib\\site-packages\\torch\\utils\\data\\dataloader.py\", line 1376, in _next_data\n",
            "    return self._process_data(data)\n",
            "  File \"c:\\Users\\samle\\anaconda3\\envs\\COMP4222\\lib\\site-packages\\torch\\utils\\data\\dataloader.py\", line 1402, in _process_data\n",
            "    data.reraise()\n",
            "  File \"c:\\Users\\samle\\anaconda3\\envs\\COMP4222\\lib\\site-packages\\torch\\_utils.py\", line 461, in reraise\n",
            "    raise exception\n",
            "cv2.error: Caught error in DataLoader worker process 0.\n",
            "Original Traceback (most recent call last):\n",
            "  File \"c:\\Users\\samle\\anaconda3\\envs\\COMP4222\\lib\\site-packages\\torch\\utils\\data\\_utils\\worker.py\", line 302, in _worker_loop\n",
            "    data = fetcher.fetch(index)\n",
            "  File \"c:\\Users\\samle\\anaconda3\\envs\\COMP4222\\lib\\site-packages\\torch\\utils\\data\\_utils\\fetch.py\", line 49, in fetch\n",
            "    data = [self.dataset[idx] for idx in possibly_batched_index]\n",
            "  File \"c:\\Users\\samle\\anaconda3\\envs\\COMP4222\\lib\\site-packages\\torch\\utils\\data\\_utils\\fetch.py\", line 49, in <listcomp>\n",
            "    data = [self.dataset[idx] for idx in possibly_batched_index]\n",
            "  File \"D:\\Users\\samle\\Documents\\GitHub\\comp4901v-finalproject\\code\\yolov4\\dataset.py\", line 323, in __getitem__\n",
            "    img, bboxes = resize_image_with_boxes_to_square(img, bboxes, self.cfg.w)\n",
            "  File \"D:\\Users\\samle\\Documents\\GitHub\\comp4901v-finalproject\\code\\yolov4\\dataset.py\", line 251, in resize_image_with_boxes_to_square\n",
            "    image_resized = cv2.resize(image, (size, size))\n",
            "cv2.error: OpenCV(4.7.0) D:\\a\\opencv-python\\opencv-python\\opencv\\modules\\imgproc\\src\\resize.cpp:4062: error: (-215:Assertion failed) !ssize.empty() in function 'cv::resize'\n",
            "\n",
            "\n"
          ]
        }
      ],
      "source": [
        "%cd D:\\Users\\samle\\Documents\\GitHub\\comp4901v-finalproject\n",
        "! git pull\n",
        "!python code/yolov4/preprocess.py\n",
        "print(\"done preprocess\")\n",
        "!python code/yolov4/train.py -l 0.001 -g 0 -pretrained ./yolov4.conv.137.pth -classes 8 -dir /content/data/training/image_2\n",
        "\n",
        "#!python -m code.yolov4.train_yolov4 --data_path '/content/data' --label_path '/content/label' --log_dir '/content/drive/MyDrive/comp4901v-final/log'"
      ]
    },
    {
      "cell_type": "code",
      "execution_count": null,
      "metadata": {
        "colab": {
          "base_uri": "https://localhost:8080/",
          "height": 294
        },
        "id": "GqIfZ7N_3G4X",
        "outputId": "08c9d9a6-78de-448c-aa9a-8557d0f46af1"
      },
      "outputs": [
        {
          "name": "stdout",
          "output_type": "stream",
          "text": [
            "(260, 260, 4)\n"
          ]
        },
        {
          "data": {
            "image/png": "[encoded data removed]",
            "text/plain": [
              "<PIL.Image.Image image mode=RGBA size=260x260 at 0x7F13F010EF70>"
            ]
          },
          "metadata": {},
          "output_type": "display_data"
        }
      ],
      "source": [
        "!curl -s -o logo.png https://colab.research.google.com/img/colab_favicon_256px.png\n",
        "import cv2\n",
        "from google.colab.patches import cv2_imshow\n",
        "img = cv2.imread('logo.png', cv2.IMREAD_UNCHANGED)\n",
        "print(img.shape)\n",
        "cv2.rectangle(img, (128, 128), (163, 172), (0, 255, 0, 255), 2)\n",
        "cv2_imshow(img)"
      ]
    },
    {
      "cell_type": "code",
      "execution_count": null,
      "metadata": {
        "colab": {
          "base_uri": "https://localhost:8080/"
        },
        "id": "8ET5b_iSoI4S",
        "outputId": "1445021a-018d-4ef2-917a-d7e88c5a3a63"
      },
      "outputs": [
        {
          "name": "stdout",
          "output_type": "stream",
          "text": [
            "000517.png 562.53,170.28,589.56,189.34,0 544.03,171.60,607.28,206.72,0 344.08,173.79,484.37,221.29,0 328.90,170.93,397.44,204.45,0 609.80,171.07,636.10,189.86,8 \n",
            "001190.png 783.71,202.46,1241.00,374.00,0 484.75,180.78,565.81,247.79,0 734.93,195.80,865.22,309.76,0 694.19,186.78,779.63,261.05,0 666.01,185.66,732.21,239.34,0 647.68,184.95,688.85,218.59,0 574.33,176.12,602.26,204.66,0 614.35,179.24,646.99,198.29,8 \n",
            "001071.png 665.28,180.07,736.29,234.96,0 0.00,207.34,356.62,374.00,0 867.82,165.25,1125.74,239.60,0 832.42,146.76,1031.39,225.82,0 376.01,206.16,439.31,239.70,7 407.68,184.08,474.83,232.09,0 255.23,195.08,388.89,271.99,0 774.44,163.36,916.23,213.70,0 467.51,183.64,511.36,214.70,0 1066.72,150.57,1197.52,193.03,0 1021.09,153.92,1144.83,188.32,0 1166.08,131.84,1241.00,194.52,3 508.91,173.42,653.46,210.59,8 689.39,166.30,766.66,189.23,8 \n",
            "000259.png 354.16,178.12,522.14,291.51,0 486.95,174.28,555.67,226.08,0 597.74,166.79,642.45,207.57,0 558.16,164.69,593.61,196.84,0 638.76,162.09,657.50,176.67,8 \n",
            "003462.png 635.39,177.82,667.75,204.06,0 669.05,176.68,730.92,222.00,0 796.13,164.99,1084.93,347.12,0 731.56,114.67,856.47,219.82,6 894.06,177.04,976.95,208.33,0 536.08,166.95,551.90,179.53,8 598.83,171.48,628.88,189.24,8 \n",
            "003453.png 596.36,174.49,624.13,201.23,0 625.43,159.85,665.21,190.53,6 0.00,149.14,136.35,252.85,7 347.22,176.13,406.34,212.51,3 429.35,167.59,505.33,194.41,8 535.44,157.24,581.66,187.94,8 \n",
            "006106.png 422.52,185.24,507.23,239.87,0 898.05,200.62,1241.00,374.00,0 780.73,178.78,963.50,295.63,0 739.51,181.79,843.64,253.85,0 470.05,183.10,534.06,224.28,0 714.30,179.25,786.95,232.28,0 497.94,182.14,550.90,215.26,0 695.68,177.34,753.35,220.17,0 552.88,177.86,583.04,200.33,0 656.68,169.65,695.42,187.65,8 \n",
            "001015.png 0.00,210.80,205.70,374.00,0 815.46,176.77,1241.00,374.00,0 365.27,180.92,457.86,240.16,0 705.13,172.30,828.78,256.34,0 683.81,171.16,767.79,230.99,0 423.89,180.29,483.50,223.92,0 732.25,155.69,746.58,205.86,1 747.43,155.90,761.76,206.03,1 96.86,179.24,279.56,209.29,8 816.85,157.31,882.52,180.27,8 \n",
            "006461.png 565.77,175.54,618.13,226.22,0 511.62,177.40,537.78,199.28,0 893.82,166.73,951.52,191.00,0 934.65,153.41,1019.65,190.75,3 1058.98,140.92,1229.07,203.04,3 541.85,175.02,558.56,190.69,8 718.94,165.65,750.23,179.23,8 622.06,175.02,633.56,185.48,8 \n",
            "003335.png 594.37,178.09,661.04,241.12,0 812.79,174.18,1007.40,294.30,0 715.06,177.30,856.55,242.10,0 157.27,182.39,353.56,281.02,0 0.00,197.67,84.89,293.60,0 67.59,177.85,240.79,266.35,0 447.27,181.16,516.58,218.28,0 571.53,172.63,603.21,196.47,0 298.91,181.02,394.86,226.68,0 437.36,181.66,499.40,209.30,0 664.07,174.28,688.94,191.73,0 164.10,183.85,282.42,228.53,0 \n"
          ]
        }
      ],
      "source": [
        "!head /content/comp4901v-finalproject/code/yolov4/data/train.txt\n"
      ]
    }
  ],
  "metadata": {
    "accelerator": "GPU",
    "colab": {
      "provenance": []
    },
    "gpuClass": "standard",
    "kernelspec": {
      "display_name": "Python 3",
      "name": "python3"
    },
    "language_info": {
      "codemirror_mode": {
        "name": "ipython",
        "version": 3
      },
      "file_extension": ".py",
      "mimetype": "text/x-python",
      "name": "python",
      "nbconvert_exporter": "python",
      "pygments_lexer": "ipython3",
      "version": "3.9.0"
    }
  },
  "nbformat": 4,
  "nbformat_minor": 0
}
